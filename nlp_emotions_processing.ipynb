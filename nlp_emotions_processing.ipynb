{
 "cells": [
  {
   "cell_type": "code",
   "execution_count": null,
   "metadata": {},
   "outputs": [],
   "source": [
    "import pandas as pd\n",
    "from datasets import load_dataset\n",
    "from transformers import pipeline"
   ]
  },
  {
   "cell_type": "code",
   "execution_count": null,
   "metadata": {},
   "outputs": [],
   "source": [
    "# Replace data in dfText with entry of user, this is just dummy records I made to test it out\n",
    "dfText = pd.DataFrame([[0,'I cannot fathom something like this has happened to me. This is incredible I have a new perspective of the world'],[1,'how dare you do this to me'],[3,'this is so exciting! can you imagine'],[4,'ah okay thats cool i guess'], [5,'what is going to happen to me?'],[6,'i just feel so in the dumps'],[7,'ew what is that, that is so gross'],[8,'I walked to the park']], columns=['Index','text'])\n",
    "dfText\n"
   ]
  },
  {
   "cell_type": "code",
   "execution_count": null,
   "metadata": {},
   "outputs": [],
   "source": [
    "model = pipeline(\"text-classification\", model=\"j-hartmann/emotion-english-distilroberta-base\")\n",
    "\n",
    "all_texts = dfText['text'].values.tolist()\n",
    "all_emotions = model(all_texts)\n",
    "dfText['emotion_label'] = [d['label'] for d in all_emotions]\n",
    "dfText['emotion_score'] = [d['score'] for d in all_emotions]"
   ]
  },
  {
   "cell_type": "code",
   "execution_count": null,
   "metadata": {},
   "outputs": [],
   "source": []
  }
 ],
 "metadata": {
  "kernelspec": {
   "display_name": "Python 3",
   "language": "python",
   "name": "python3"
  },
  "language_info": {
   "name": "python",
   "version": "3.12.2"
  }
 },
 "nbformat": 4,
 "nbformat_minor": 2
}
